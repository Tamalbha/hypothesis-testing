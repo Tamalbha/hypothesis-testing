{
 "cells": [
  {
   "cell_type": "markdown",
   "id": "5e17ed60",
   "metadata": {
    "id": "3efad4c7-d34f-44b0-a48d-94651f931bae",
    "papermill": {
     "duration": 0.011301,
     "end_time": "2024-02-09T15:13:55.695521",
     "exception": false,
     "start_time": "2024-02-09T15:13:55.684220",
     "status": "completed"
    },
    "tags": []
   },
   "source": [
    "# Hypothesis testing with Python"
   ]
  },
  {
   "cell_type": "markdown",
   "id": "f4d8f9b0",
   "metadata": {
    "id": "2faf7b57-5c13-45e5-b666-d575eff0d17c",
    "papermill": {
     "duration": 0.010279,
     "end_time": "2024-02-09T15:13:55.716559",
     "exception": false,
     "start_time": "2024-02-09T15:13:55.706280",
     "status": "completed"
    },
    "tags": []
   },
   "source": [
    "## **Introduction**"
   ]
  },
  {
   "cell_type": "markdown",
   "id": "37cf434f",
   "metadata": {
    "id": "2ca9aca5-33e0-4aa7-acdb-05832b05e5a9",
    "papermill": {
     "duration": 0.010179,
     "end_time": "2024-02-09T15:13:55.737204",
     "exception": false,
     "start_time": "2024-02-09T15:13:55.727025",
     "status": "completed"
    },
    "tags": []
   },
   "source": [
    "As you've been learning, analysis of variance (commonly called ANOVA) is a group of statistical techniques that test the difference of means among three or more groups. It's a powerful tool for determining whether population means are different across groups and for answering a wide range of business questions.\n",
    "\n",
    "In this activity, you are a data professional working with historical marketing promotion data. You will use the data to run a one-way ANOVA and a post hoc ANOVA test. Then, you will communicate your results to stakeholders. These experiences will help you make more confident recommendations in a professional setting. \n",
    "\n",
    "In your dataset, each row corresponds to an independent marketing promotion, where your business uses TV, social media, radio, and influencer promotions to increase sales. You have previously provided insights about how different promotion types affect sales; now stakeholders want to know if sales are significantly different among various TV and influencer promotion types.\n",
    "\n",
    "To address this request, a one-way ANOVA test will enable you to determine if there is a statistically significant difference in sales among groups. This includes:\n",
    "* Using plots and descriptive statistics to select a categorical independent variable\n",
    "* Creating and fitting a linear regression model with the selected categorical independent variable\n",
    "* Checking model assumptions\n",
    "* Performing and interpreting a one-way ANOVA test\n",
    "* Comparing pairs of groups using an ANOVA post hoc test\n",
    "* Interpreting model outputs and communicating the results to nontechnical stakeholders"
   ]
  },
  {
   "cell_type": "markdown",
   "id": "0671f635",
   "metadata": {
    "id": "bfcf5ec2-e48b-4443-9bf6-72670bd60041",
    "papermill": {
     "duration": 0.010305,
     "end_time": "2024-02-09T15:13:55.759234",
     "exception": false,
     "start_time": "2024-02-09T15:13:55.748929",
     "status": "completed"
    },
    "tags": []
   },
   "source": [
    "# Step 1: Imports data\n"
   ]
  },
  {
   "cell_type": "markdown",
   "id": "719fee76",
   "metadata": {
    "id": "7dcaa8a0-4fe8-4816-9ef5-5fc665a4638f",
    "papermill": {
     "duration": 0.010196,
     "end_time": "2024-02-09T15:13:55.779716",
     "exception": false,
     "start_time": "2024-02-09T15:13:55.769520",
     "status": "completed"
    },
    "tags": []
   },
   "source": [
    "Import pandas, pyplot from matplotlib, seaborn, api from statsmodels, ols from statsmodels.formula.api, and pairwise_tukeyhsd from statsmodels.stats.multicomp."
   ]
  },
  {
   "cell_type": "code",
   "execution_count": 1,
   "id": "f0bc0129",
   "metadata": {
    "execution": {
     "iopub.execute_input": "2024-02-09T15:13:55.802523Z",
     "iopub.status.busy": "2024-02-09T15:13:55.801824Z",
     "iopub.status.idle": "2024-02-09T15:13:59.807991Z",
     "shell.execute_reply": "2024-02-09T15:13:59.806495Z"
    },
    "executionInfo": {
     "elapsed": 5761,
     "status": "ok",
     "timestamp": 1660667850321,
     "user": {
      "displayName": "Connor O'Brien",
      "userId": "15962452142156837045"
     },
     "user_tz": 240
    },
    "id": "b2f4b9fa-b7bd-4b88-8c71-d3af5ddcb906",
    "outputId": "19e75e54-384d-4133-9cbf-52fde4d50fa6",
    "papermill": {
     "duration": 4.020574,
     "end_time": "2024-02-09T15:13:59.810593",
     "exception": false,
     "start_time": "2024-02-09T15:13:55.790019",
     "status": "completed"
    },
    "tags": []
   },
   "outputs": [],
   "source": [
    "# Import libraries and packages.\n",
    "\n",
    "import pandas as pd\n",
    "import matplotlib.pyplot as plt\n",
    "import seaborn as sns\n",
    "import statsmodels.api as sm\n",
    "from statsmodels.formula.api import ols\n",
    "from statsmodels.stats.multicomp import pairwise_tukeyhsd"
   ]
  },
  {
   "cell_type": "markdown",
   "id": "e3cab289",
   "metadata": {
    "id": "b05c77e3-9f0f-4245-a683-07be022e2cd6",
    "papermill": {
     "duration": 0.010458,
     "end_time": "2024-02-09T15:13:59.832294",
     "exception": false,
     "start_time": "2024-02-09T15:13:59.821836",
     "status": "completed"
    },
    "tags": []
   },
   "source": [
    "Load the dataset `marketing_sales_data.csv` as `data`, and display the first five rows. The variables in the dataset have been adjusted to suit the objectives of this lab."
   ]
  },
  {
   "cell_type": "code",
   "execution_count": 2,
   "id": "c18c4cde",
   "metadata": {
    "execution": {
     "iopub.execute_input": "2024-02-09T15:13:59.856266Z",
     "iopub.status.busy": "2024-02-09T15:13:59.855694Z",
     "iopub.status.idle": "2024-02-09T15:13:59.890447Z",
     "shell.execute_reply": "2024-02-09T15:13:59.889739Z"
    },
    "id": "32d46d82-2bd6-4433-b56e-cfa5542949ca",
    "outputId": "9827eb17-1ba6-4547-8058-e348b4edb146",
    "papermill": {
     "duration": 0.048582,
     "end_time": "2024-02-09T15:13:59.892061",
     "exception": false,
     "start_time": "2024-02-09T15:13:59.843479",
     "status": "completed"
    },
    "tags": []
   },
   "outputs": [
    {
     "data": {
      "text/html": [
       "<div>\n",
       "<style scoped>\n",
       "    .dataframe tbody tr th:only-of-type {\n",
       "        vertical-align: middle;\n",
       "    }\n",
       "\n",
       "    .dataframe tbody tr th {\n",
       "        vertical-align: top;\n",
       "    }\n",
       "\n",
       "    .dataframe thead th {\n",
       "        text-align: right;\n",
       "    }\n",
       "</style>\n",
       "<table border=\"1\" class=\"dataframe\">\n",
       "  <thead>\n",
       "    <tr style=\"text-align: right;\">\n",
       "      <th></th>\n",
       "      <th>TV</th>\n",
       "      <th>Radio</th>\n",
       "      <th>Social Media</th>\n",
       "      <th>Influencer</th>\n",
       "      <th>Sales</th>\n",
       "    </tr>\n",
       "  </thead>\n",
       "  <tbody>\n",
       "    <tr>\n",
       "      <th>0</th>\n",
       "      <td>Low</td>\n",
       "      <td>3.518070</td>\n",
       "      <td>2.293790</td>\n",
       "      <td>Micro</td>\n",
       "      <td>55.261284</td>\n",
       "    </tr>\n",
       "    <tr>\n",
       "      <th>1</th>\n",
       "      <td>Low</td>\n",
       "      <td>7.756876</td>\n",
       "      <td>2.572287</td>\n",
       "      <td>Mega</td>\n",
       "      <td>67.574904</td>\n",
       "    </tr>\n",
       "    <tr>\n",
       "      <th>2</th>\n",
       "      <td>High</td>\n",
       "      <td>20.348988</td>\n",
       "      <td>1.227180</td>\n",
       "      <td>Micro</td>\n",
       "      <td>272.250108</td>\n",
       "    </tr>\n",
       "    <tr>\n",
       "      <th>3</th>\n",
       "      <td>Medium</td>\n",
       "      <td>20.108487</td>\n",
       "      <td>2.728374</td>\n",
       "      <td>Mega</td>\n",
       "      <td>195.102176</td>\n",
       "    </tr>\n",
       "    <tr>\n",
       "      <th>4</th>\n",
       "      <td>High</td>\n",
       "      <td>31.653200</td>\n",
       "      <td>7.776978</td>\n",
       "      <td>Nano</td>\n",
       "      <td>273.960377</td>\n",
       "    </tr>\n",
       "  </tbody>\n",
       "</table>\n",
       "</div>"
      ],
      "text/plain": [
       "       TV      Radio  Social Media Influencer       Sales\n",
       "0     Low   3.518070      2.293790      Micro   55.261284\n",
       "1     Low   7.756876      2.572287       Mega   67.574904\n",
       "2    High  20.348988      1.227180      Micro  272.250108\n",
       "3  Medium  20.108487      2.728374       Mega  195.102176\n",
       "4    High  31.653200      7.776978       Nano  273.960377"
      ]
     },
     "execution_count": 2,
     "metadata": {},
     "output_type": "execute_result"
    }
   ],
   "source": [
    "# Load the data.\n",
    "\n",
    "data = pd.read_csv('/kaggle/input/data-s/marketing_sales_data.csv')\n",
    "\n",
    "# Display the first five rows.\n",
    "\n",
    "\n",
    "data.head()"
   ]
  },
  {
   "cell_type": "markdown",
   "id": "a0b179e6",
   "metadata": {
    "id": "c179e85f-20df-4840-ad29-de35b928dff6",
    "papermill": {
     "duration": 0.010551,
     "end_time": "2024-02-09T15:13:59.913947",
     "exception": false,
     "start_time": "2024-02-09T15:13:59.903396",
     "status": "completed"
    },
    "tags": []
   },
   "source": [
    "The features in the data are:\n",
    "* TV promotion budget (in Low, Medium, and High categories)\n",
    "* Social media promotion budget (in millions of dollars)\n",
    "* Radio promotion budget (in millions of dollars)\n",
    "* Sales (in millions of dollars)\n",
    "* Influencer size (in Mega, Macro, Nano, and Micro categories)"
   ]
  },
  {
   "cell_type": "markdown",
   "id": "db2d80be",
   "metadata": {
    "id": "6db7b19a-dd9b-490a-b389-0c433ed16754",
    "papermill": {
     "duration": 0.010389,
     "end_time": "2024-02-09T15:13:59.934984",
     "exception": false,
     "start_time": "2024-02-09T15:13:59.924595",
     "status": "completed"
    },
    "tags": []
   },
   "source": [
    "**Question:** Why is it useful to perform exploratory data analysis before constructing a linear regression model?\n",
    "\n",
    "Potential reasons include:\n",
    "\n",
    "* To understand which variables are present in the data\n",
    "* To consider the distribution of features, such as minimum, mean, and maximum values\n",
    "* To plot the relationship between the independent and dependent variables and visualize which features have a linear relationship\n",
    "* To identify issues with the data, such as incorrect or missing values."
   ]
  },
  {
   "cell_type": "markdown",
   "id": "be31b417",
   "metadata": {
    "id": "fd47ede7-63ff-4fe5-aeb0-b8f909e9ecbe",
    "papermill": {
     "duration": 0.010371,
     "end_time": "2024-02-09T15:13:59.955936",
     "exception": false,
     "start_time": "2024-02-09T15:13:59.945565",
     "status": "completed"
    },
    "tags": []
   },
   "source": [
    "# Step 2: Data exploration\n"
   ]
  },
  {
   "cell_type": "markdown",
   "id": "dbee5cfc",
   "metadata": {
    "id": "3f63f855-1dac-415b-a303-4f66fc39322c",
    "papermill": {
     "duration": 0.010419,
     "end_time": "2024-02-09T15:13:59.977051",
     "exception": false,
     "start_time": "2024-02-09T15:13:59.966632",
     "status": "completed"
    },
    "tags": []
   },
   "source": [
    "First, use a boxplot to determine how `Sales` vary based on the `TV` promotion budget category."
   ]
  },
  {
   "cell_type": "code",
   "execution_count": 3,
   "id": "3f1b69c6",
   "metadata": {
    "execution": {
     "iopub.execute_input": "2024-02-09T15:14:00.004340Z",
     "iopub.status.busy": "2024-02-09T15:14:00.003686Z",
     "iopub.status.idle": "2024-02-09T15:14:00.204863Z",
     "shell.execute_reply": "2024-02-09T15:14:00.204105Z"
    },
    "id": "518254a6-44d5-45bf-9b57-13ce3a4deab3",
    "outputId": "09ae9918-19ec-4857-d457-d4eb2bc4aa33",
    "papermill": {
     "duration": 0.216197,
     "end_time": "2024-02-09T15:14:00.206704",
     "exception": false,
     "start_time": "2024-02-09T15:13:59.990507",
     "status": "completed"
    },
    "tags": []
   },
   "outputs": [
    {
     "data": {
      "image/png": "[encoded data removed]",
      "text/plain": [
       "<Figure size 640x480 with 1 Axes>"
      ]
     },
     "metadata": {},
     "output_type": "display_data"
    }
   ],
   "source": [
    "# Create a boxplot with TV and Sales.\n",
    "\n",
    "sns.boxplot(x = \"TV\", y = \"Sales\", data = data);"
   ]
  },
  {
   "cell_type": "markdown",
   "id": "921856ac",
   "metadata": {
    "id": "dd7d4c26-24ae-43b6-a521-18ce36446216",
    "papermill": {
     "duration": 0.01095,
     "end_time": "2024-02-09T15:14:00.228862",
     "exception": false,
     "start_time": "2024-02-09T15:14:00.217912",
     "status": "completed"
    },
    "tags": []
   },
   "source": [
    "<details>\n",
    "<summary><h4><strong>Hint 1</strong></h4></summary>\n",
    "\n",
    "There is a function in the `seaborn` library that creates a boxplot showing the distribution of a variable across multiple groups.\n",
    "\n",
    "</details>"
   ]
  },
  {
   "cell_type": "markdown",
   "id": "f18cb3fa",
   "metadata": {
    "id": "344a4a0a-1b9e-474a-979a-d55032c5bd75",
    "papermill": {
     "duration": 0.012194,
     "end_time": "2024-02-09T15:14:00.253287",
     "exception": false,
     "start_time": "2024-02-09T15:14:00.241093",
     "status": "completed"
    },
    "tags": []
   },
   "source": [
    "<details>\n",
    "<summary><h4><strong>Hint 2</strong></h4></summary>\n",
    "\n",
    "Use the `boxplot()` function from `seaborn`.\n",
    "\n",
    "</details>"
   ]
  },
  {
   "cell_type": "markdown",
   "id": "3f5305f1",
   "metadata": {
    "id": "0b172c8a-8c94-4f83-bd33-b89d634a5025",
    "jp-MarkdownHeadingCollapsed": true,
    "papermill": {
     "duration": 0.01118,
     "end_time": "2024-02-09T15:14:00.276128",
     "exception": false,
     "start_time": "2024-02-09T15:14:00.264948",
     "status": "completed"
    },
    "tags": []
   },
   "source": [
    "<details>\n",
    "<summary><h4><strong>Hint 3</strong></h4></summary>\n",
    "\n",
    "Use `TV` as the `x` argument, `Sales` as the `y` argument, and `data` as the `data` argument.\n",
    "\n",
    "</details>"
   ]
  },
  {
   "cell_type": "markdown",
   "id": "e89dcb58",
   "metadata": {
    "id": "a956add8-97b0-45b8-a008-ca1f7033c308",
    "papermill": {
     "duration": 0.01063,
     "end_time": "2024-02-09T15:14:00.297798",
     "exception": false,
     "start_time": "2024-02-09T15:14:00.287168",
     "status": "completed"
    },
    "tags": []
   },
   "source": [
    "**Question:** Is there variation in `Sales` based off the `TV` promotion budget?\n",
    "\n",
    "There is considerable variation in `Sales` across the `TV` groups. The significance of these differences can be tested with a one-way ANOVA."
   ]
  },
  {
   "cell_type": "markdown",
   "id": "5c0c1a0d",
   "metadata": {
    "id": "f3100abe-32db-4a56-b831-18eb0857b2d7",
    "papermill": {
     "duration": 0.010972,
     "end_time": "2024-02-09T15:14:00.320950",
     "exception": false,
     "start_time": "2024-02-09T15:14:00.309978",
     "status": "completed"
    },
    "tags": []
   },
   "source": [
    "Now, use a boxplot to determine how `Sales` vary based on the `Influencer` size category."
   ]
  },
  {
   "cell_type": "code",
   "execution_count": 4,
   "id": "05a95e5f",
   "metadata": {
    "execution": {
     "iopub.execute_input": "2024-02-09T15:14:00.345578Z",
     "iopub.status.busy": "2024-02-09T15:14:00.345215Z",
     "iopub.status.idle": "2024-02-09T15:14:00.517999Z",
     "shell.execute_reply": "2024-02-09T15:14:00.517113Z"
    },
    "id": "fafbc9e4-de0b-4892-a863-add240208344",
    "outputId": "4ec314f9-ea1b-4bd6-9077-6ebfaafde5ff",
    "papermill": {
     "duration": 0.187674,
     "end_time": "2024-02-09T15:14:00.519861",
     "exception": false,
     "start_time": "2024-02-09T15:14:00.332187",
     "status": "completed"
    },
    "tags": []
   },
   "outputs": [
    {
     "data": {
      "image/png": "[encoded data removed]",
      "text/plain": [
       "<Figure size 640x480 with 1 Axes>"
      ]
     },
     "metadata": {},
     "output_type": "display_data"
    }
   ],
   "source": [
    "# Create a boxplot with Influencer and Sales. \n",
    "\n",
    "sns.boxplot(x = \"Influencer\", y = \"Sales\", data = data);"
   ]
  },
  {
   "cell_type": "markdown",
   "id": "a3092f2b",
   "metadata": {
    "id": "e415aa95-0650-47e0-9efd-2770b8dfcb3d",
    "papermill": {
     "duration": 0.011185,
     "end_time": "2024-02-09T15:14:00.543302",
     "exception": false,
     "start_time": "2024-02-09T15:14:00.532117",
     "status": "completed"
    },
    "tags": []
   },
   "source": [
    "**Question:** Is there variation in `Sales` based off the `Influencer` size?\n",
    "\n",
    "There is some variation in `Sales` across the `Influencer` groups, but it may not be significant."
   ]
  },
  {
   "cell_type": "markdown",
   "id": "7cfcea9b",
   "metadata": {
    "id": "0f4adbee-9d13-400a-99e6-6d4c482b8e17",
    "papermill": {
     "duration": 0.011144,
     "end_time": "2024-02-09T15:14:00.566054",
     "exception": false,
     "start_time": "2024-02-09T15:14:00.554910",
     "status": "completed"
    },
    "tags": []
   },
   "source": [
    "### Remove missing data\n",
    "\n",
    "You may recall from prior labs that this dataset contains rows with missing values. To correct this, drop these rows. Then, confirm the data contains no missing values."
   ]
  },
  {
   "cell_type": "code",
   "execution_count": 5,
   "id": "3b465e54",
   "metadata": {
    "execution": {
     "iopub.execute_input": "2024-02-09T15:14:00.653532Z",
     "iopub.status.busy": "2024-02-09T15:14:00.653130Z",
     "iopub.status.idle": "2024-02-09T15:14:00.661381Z",
     "shell.execute_reply": "2024-02-09T15:14:00.660711Z"
    },
    "id": "498e546b-e90e-4b84-a7d7-12b3bb514c1d",
    "papermill": {
     "duration": 0.084376,
     "end_time": "2024-02-09T15:14:00.663050",
     "exception": false,
     "start_time": "2024-02-09T15:14:00.578674",
     "status": "completed"
    },
    "tags": []
   },
   "outputs": [
    {
     "data": {
      "text/plain": [
       "TV              0\n",
       "Radio           0\n",
       "Social Media    0\n",
       "Influencer      0\n",
       "Sales           0\n",
       "dtype: int64"
      ]
     },
     "execution_count": 5,
     "metadata": {},
     "output_type": "execute_result"
    }
   ],
   "source": [
    "# Drop rows that contain missing data and update the DataFrame.\n",
    "\n",
    "data = data.dropna(axis=0)\n",
    "\n",
    "\n",
    "# Confirm the data contain no missing values.\n",
    "\n",
    "data.isnull().sum(axis=0)"
   ]
  },
  {
   "cell_type": "markdown",
   "id": "3eb802be",
   "metadata": {
    "id": "e37d7507-1f3d-4432-912e-ced7feff4ac6",
    "papermill": {
     "duration": 0.011785,
     "end_time": "2024-02-09T15:14:00.687297",
     "exception": false,
     "start_time": "2024-02-09T15:14:00.675512",
     "status": "completed"
    },
    "tags": []
   },
   "source": [
    "<details>\n",
    "<summary><h4><strong>Hint 1</strong></h4></summary>\n",
    "\n",
    "There is a `pandas` function that removes missing values.\n",
    "\n",
    "</details>"
   ]
  },
  {
   "cell_type": "markdown",
   "id": "3b13607d",
   "metadata": {
    "id": "19cd01e1-9976-47f6-b25c-7b8ce2a05627",
    "papermill": {
     "duration": 0.011271,
     "end_time": "2024-02-09T15:14:00.710398",
     "exception": false,
     "start_time": "2024-02-09T15:14:00.699127",
     "status": "completed"
    },
    "tags": []
   },
   "source": [
    "<details>\n",
    "<summary><h4><strong>Hint 2</strong></h4></summary>\n",
    "\n",
    "The `dropna()` function removes missing values from an object (e.g., DataFrame).\n",
    "\n",
    "</details>"
   ]
  },
  {
   "cell_type": "markdown",
   "id": "04a17d54",
   "metadata": {
    "id": "87a46eec-9d3e-4657-bf91-6b3bd02089f0",
    "papermill": {
     "duration": 0.011254,
     "end_time": "2024-02-09T15:14:00.733427",
     "exception": false,
     "start_time": "2024-02-09T15:14:00.722173",
     "status": "completed"
    },
    "tags": []
   },
   "source": [
    "<details>\n",
    "<summary><h4><strong>Hint 3</strong></h4></summary>\n",
    "\n",
    "Verify the data is updated properly after the rows containing missing data are dropped.\n",
    "\n",
    "</details>"
   ]
  },
  {
   "cell_type": "markdown",
   "id": "cca3114b",
   "metadata": {
    "id": "888c90fa-d800-43e4-a692-9fdd576c9b9c",
    "papermill": {
     "duration": 0.012014,
     "end_time": "2024-02-09T15:14:00.758206",
     "exception": false,
     "start_time": "2024-02-09T15:14:00.746192",
     "status": "completed"
    },
    "tags": []
   },
   "source": [
    "# Step 3: Model building "
   ]
  },
  {
   "cell_type": "markdown",
   "id": "eb3cc072",
   "metadata": {
    "id": "9c906193-db62-4af0-83fa-dffafc347554",
    "papermill": {
     "duration": 0.01296,
     "end_time": "2024-02-09T15:14:00.783096",
     "exception": false,
     "start_time": "2024-02-09T15:14:00.770136",
     "status": "completed"
    },
    "tags": []
   },
   "source": [
    "Fit a linear regression model that predicts `Sales` using one of the independent categorical variables in `data`. Refer to your previous code for defining and fitting a linear regression model."
   ]
  },
  {
   "cell_type": "code",
   "execution_count": 6,
   "id": "b524a46c",
   "metadata": {
    "execution": {
     "iopub.execute_input": "2024-02-09T15:14:00.809698Z",
     "iopub.status.busy": "2024-02-09T15:14:00.809049Z",
     "iopub.status.idle": "2024-02-09T15:14:00.855047Z",
     "shell.execute_reply": "2024-02-09T15:14:00.854160Z"
    },
    "id": "76f99341-1ea0-4f1d-a2c7-54e56bd57e38",
    "outputId": "d839100c-52df-43ad-8310-3a966d786195",
    "papermill": {
     "duration": 0.061334,
     "end_time": "2024-02-09T15:14:00.856759",
     "exception": false,
     "start_time": "2024-02-09T15:14:00.795425",
     "status": "completed"
    },
    "tags": []
   },
   "outputs": [
    {
     "data": {
      "text/html": [
       "<table class=\"simpletable\">\n",
       "<caption>OLS Regression Results</caption>\n",
       "<tr>\n",
       "  <th>Dep. Variable:</th>          <td>Sales</td>      <th>  R-squared:         </th> <td>   0.871</td> \n",
       "</tr>\n",
       "<tr>\n",
       "  <th>Model:</th>                   <td>OLS</td>       <th>  Adj. R-squared:    </th> <td>   0.870</td> \n",
       "</tr>\n",
       "<tr>\n",
       "  <th>Method:</th>             <td>Least Squares</td>  <th>  F-statistic:       </th> <td>   1918.</td> \n",
       "</tr>\n",
       "<tr>\n",
       "  <th>Date:</th>             <td>Fri, 09 Feb 2024</td> <th>  Prob (F-statistic):</th> <td>1.38e-253</td>\n",
       "</tr>\n",
       "<tr>\n",
       "  <th>Time:</th>                 <td>15:14:00</td>     <th>  Log-Likelihood:    </th> <td> -2798.9</td> \n",
       "</tr>\n",
       "<tr>\n",
       "  <th>No. Observations:</th>      <td>   572</td>      <th>  AIC:               </th> <td>   5604.</td> \n",
       "</tr>\n",
       "<tr>\n",
       "  <th>Df Residuals:</th>          <td>   569</td>      <th>  BIC:               </th> <td>   5617.</td> \n",
       "</tr>\n",
       "<tr>\n",
       "  <th>Df Model:</th>              <td>     2</td>      <th>                     </th>     <td> </td>    \n",
       "</tr>\n",
       "<tr>\n",
       "  <th>Covariance Type:</th>      <td>nonrobust</td>    <th>                     </th>     <td> </td>    \n",
       "</tr>\n",
       "</table>\n",
       "<table class=\"simpletable\">\n",
       "<tr>\n",
       "         <td></td>            <th>coef</th>     <th>std err</th>      <th>t</th>      <th>P>|t|</th>  <th>[0.025</th>    <th>0.975]</th>  \n",
       "</tr>\n",
       "<tr>\n",
       "  <th>Intercept</th>       <td>  300.8532</td> <td>    2.512</td> <td>  119.789</td> <td> 0.000</td> <td>  295.920</td> <td>  305.786</td>\n",
       "</tr>\n",
       "<tr>\n",
       "  <th>C(TV)[T.Low]</th>    <td> -209.8691</td> <td>    3.394</td> <td>  -61.841</td> <td> 0.000</td> <td> -216.535</td> <td> -203.203</td>\n",
       "</tr>\n",
       "<tr>\n",
       "  <th>C(TV)[T.Medium]</th> <td> -105.4952</td> <td>    3.379</td> <td>  -31.224</td> <td> 0.000</td> <td> -112.131</td> <td>  -98.859</td>\n",
       "</tr>\n",
       "</table>\n",
       "<table class=\"simpletable\">\n",
       "<tr>\n",
       "  <th>Omnibus:</th>       <td>547.584</td> <th>  Durbin-Watson:     </th> <td>   1.960</td>\n",
       "</tr>\n",
       "<tr>\n",
       "  <th>Prob(Omnibus):</th> <td> 0.000</td>  <th>  Jarque-Bera (JB):  </th> <td>  37.103</td>\n",
       "</tr>\n",
       "<tr>\n",
       "  <th>Skew:</th>          <td> 0.015</td>  <th>  Prob(JB):          </th> <td>8.77e-09</td>\n",
       "</tr>\n",
       "<tr>\n",
       "  <th>Kurtosis:</th>      <td> 1.753</td>  <th>  Cond. No.          </th> <td>    3.97</td>\n",
       "</tr>\n",
       "</table><br/><br/>Notes:<br/>[1] Standard Errors assume that the covariance matrix of the errors is correctly specified."
      ],
      "text/latex": [
       "\\begin{center}\n",
       "\\begin{tabular}{lclc}\n",
       "\\toprule\n",
       "\\textbf{Dep. Variable:}    &      Sales       & \\textbf{  R-squared:         } &     0.871   \\\\\n",
       "\\textbf{Model:}            &       OLS        & \\textbf{  Adj. R-squared:    } &     0.870   \\\\\n",
       "\\textbf{Method:}           &  Least Squares   & \\textbf{  F-statistic:       } &     1918.   \\\\\n",
       "\\textbf{Date:}             & Fri, 09 Feb 2024 & \\textbf{  Prob (F-statistic):} & 1.38e-253   \\\\\n",
       "\\textbf{Time:}             &     15:14:00     & \\textbf{  Log-Likelihood:    } &   -2798.9   \\\\\n",
       "\\textbf{No. Observations:} &         572      & \\textbf{  AIC:               } &     5604.   \\\\\n",
       "\\textbf{Df Residuals:}     &         569      & \\textbf{  BIC:               } &     5617.   \\\\\n",
       "\\textbf{Df Model:}         &           2      & \\textbf{                     } &             \\\\\n",
       "\\textbf{Covariance Type:}  &    nonrobust     & \\textbf{                     } &             \\\\\n",
       "\\bottomrule\n",
       "\\end{tabular}\n",
       "\\begin{tabular}{lcccccc}\n",
       "                         & \\textbf{coef} & \\textbf{std err} & \\textbf{t} & \\textbf{P$> |$t$|$} & \\textbf{[0.025} & \\textbf{0.975]}  \\\\\n",
       "\\midrule\n",
       "\\textbf{Intercept}       &     300.8532  &        2.512     &   119.789  &         0.000        &      295.920    &      305.786     \\\\\n",
       "\\textbf{C(TV)[T.Low]}    &    -209.8691  &        3.394     &   -61.841  &         0.000        &     -216.535    &     -203.203     \\\\\n",
       "\\textbf{C(TV)[T.Medium]} &    -105.4952  &        3.379     &   -31.224  &         0.000        &     -112.131    &      -98.859     \\\\\n",
       "\\bottomrule\n",
       "\\end{tabular}\n",
       "\\begin{tabular}{lclc}\n",
       "\\textbf{Omnibus:}       & 547.584 & \\textbf{  Durbin-Watson:     } &    1.960  \\\\\n",
       "\\textbf{Prob(Omnibus):} &   0.000 & \\textbf{  Jarque-Bera (JB):  } &   37.103  \\\\\n",
       "\\textbf{Skew:}          &   0.015 & \\textbf{  Prob(JB):          } & 8.77e-09  \\\\\n",
       "\\textbf{Kurtosis:}      &   1.753 & \\textbf{  Cond. No.          } &     3.97  \\\\\n",
       "\\bottomrule\n",
       "\\end{tabular}\n",
       "%\\caption{OLS Regression Results}\n",
       "\\end{center}\n",
       "\n",
       "Notes: \\newline\n",
       " [1] Standard Errors assume that the covariance matrix of the errors is correctly specified."
      ],
      "text/plain": [
       "<class 'statsmodels.iolib.summary.Summary'>\n",
       "\"\"\"\n",
       "                            OLS Regression Results                            \n",
       "==============================================================================\n",
       "Dep. Variable:                  Sales   R-squared:                       0.871\n",
       "Model:                            OLS   Adj. R-squared:                  0.870\n",
       "Method:                 Least Squares   F-statistic:                     1918.\n",
       "Date:                Fri, 09 Feb 2024   Prob (F-statistic):          1.38e-253\n",
       "Time:                        15:14:00   Log-Likelihood:                -2798.9\n",
       "No. Observations:                 572   AIC:                             5604.\n",
       "Df Residuals:                     569   BIC:                             5617.\n",
       "Df Model:                           2                                         \n",
       "Covariance Type:            nonrobust                                         \n",
       "===================================================================================\n",
       "                      coef    std err          t      P>|t|      [0.025      0.975]\n",
       "-----------------------------------------------------------------------------------\n",
       "Intercept         300.8532      2.512    119.789      0.000     295.920     305.786\n",
       "C(TV)[T.Low]     -209.8691      3.394    -61.841      0.000    -216.535    -203.203\n",
       "C(TV)[T.Medium]  -105.4952      3.379    -31.224      0.000    -112.131     -98.859\n",
       "==============================================================================\n",
       "Omnibus:                      547.584   Durbin-Watson:                   1.960\n",
       "Prob(Omnibus):                  0.000   Jarque-Bera (JB):               37.103\n",
       "Skew:                           0.015   Prob(JB):                     8.77e-09\n",
       "Kurtosis:                       1.753   Cond. No.                         3.97\n",
       "==============================================================================\n",
       "\n",
       "Notes:\n",
       "[1] Standard Errors assume that the covariance matrix of the errors is correctly specified.\n",
       "\"\"\""
      ]
     },
     "execution_count": 6,
     "metadata": {},
     "output_type": "execute_result"
    }
   ],
   "source": [
    "# Define the OLS formula.\n",
    "\n",
    "ols_formula = 'Sales ~ C(TV)'\n",
    "\n",
    "# Create an OLS model.\n",
    "\n",
    "OLS = ols(formula = ols_formula, data = data)\n",
    "\n",
    "# Fit the model.\n",
    "\n",
    "model = OLS.fit()\n",
    "\n",
    "# Save the results summary.\n",
    "\n",
    "model_results = model.summary()\n",
    "\n",
    "# Display the model results.\n",
    "\n",
    "model_results"
   ]
  },
  {
   "cell_type": "markdown",
   "id": "bdf76086",
   "metadata": {
    "id": "109e32f5-8193-4961-8245-6b6c09acfe3a",
    "jp-MarkdownHeadingCollapsed": true,
    "papermill": {
     "duration": 0.011782,
     "end_time": "2024-02-09T15:14:00.880743",
     "exception": false,
     "start_time": "2024-02-09T15:14:00.868961",
     "status": "completed"
    },
    "tags": []
   },
   "source": [
    "<details>\n",
    "<summary><h4><strong>Hint 1</strong></h4></summary>\n",
    "\n",
    "Refer to code you've written to fit linear regression models.\n",
    "\n",
    "</details>"
   ]
  },
  {
   "cell_type": "markdown",
   "id": "53ff2c69",
   "metadata": {
    "id": "49424e08-3472-44f1-a892-63ed80517510",
    "papermill": {
     "duration": 0.011886,
     "end_time": "2024-02-09T15:14:00.905838",
     "exception": false,
     "start_time": "2024-02-09T15:14:00.893952",
     "status": "completed"
    },
    "tags": []
   },
   "source": [
    "<details>\n",
    "<summary><h4><strong>Hint 2</strong></h4></summary>\n",
    "\n",
    "Use the `ols()` function from `statsmodels.formula.api`, which creates a model from a formula and DataFrame, to create an OLS model.\n",
    "\n",
    "</details>\n"
   ]
  },
  {
   "cell_type": "markdown",
   "id": "1d26d6d6",
   "metadata": {
    "id": "0ee5dead-ed62-45d5-ab24-d671d8c3dde4",
    "jp-MarkdownHeadingCollapsed": true,
    "papermill": {
     "duration": 0.011859,
     "end_time": "2024-02-09T15:14:00.930257",
     "exception": false,
     "start_time": "2024-02-09T15:14:00.918398",
     "status": "completed"
    },
    "tags": []
   },
   "source": [
    "<details>\n",
    "<summary><h4><strong>Hint 3</strong></h4></summary>\n",
    "\n",
    "Use `C()` around the variable name in the ols formula to indicate a variable is categorical.\n",
    "    \n",
    "Be sure the variable string names exactly match the column names in `data`.\n",
    "\n",
    "</details>"
   ]
  },
  {
   "cell_type": "markdown",
   "id": "e9f82d14",
   "metadata": {
    "id": "1d889a8b-76f5-4f27-833f-a19af27ed8ca",
    "papermill": {
     "duration": 0.011724,
     "end_time": "2024-02-09T15:14:00.954198",
     "exception": false,
     "start_time": "2024-02-09T15:14:00.942474",
     "status": "completed"
    },
    "tags": []
   },
   "source": [
    "**Question:** Which categorical variable did you choose for the model? Why?\n",
    "\n",
    "* `TV` was selected as the preceding analysis showed a strong relationship between the `TV` promotion budget and the average `Sales`.\n",
    "* `Influencer` was not selected because it did not show a strong relationship to `Sales` in the analysis."
   ]
  },
  {
   "cell_type": "markdown",
   "id": "bdb6e4ab",
   "metadata": {
    "id": "b4987bee-40ae-4513-95c3-1bec1acdbba9",
    "papermill": {
     "duration": 0.012442,
     "end_time": "2024-02-09T15:14:00.978945",
     "exception": false,
     "start_time": "2024-02-09T15:14:00.966503",
     "status": "completed"
    },
    "tags": []
   },
   "source": [
    "# step 4 : Check model assumptions"
   ]
  },
  {
   "cell_type": "markdown",
   "id": "302f6a36",
   "metadata": {
    "id": "6854af88-7d67-4214-a7df-c6405b46bb47",
    "papermill": {
     "duration": 0.012397,
     "end_time": "2024-02-09T15:14:01.004925",
     "exception": false,
     "start_time": "2024-02-09T15:14:00.992528",
     "status": "completed"
    },
    "tags": []
   },
   "source": [
    "Now, check the four linear regression assumptions are upheld for your model."
   ]
  },
  {
   "cell_type": "markdown",
   "id": "dfde14e6",
   "metadata": {
    "id": "72eeb1c7-2f17-44fe-ac3f-71d555c2d81e",
    "papermill": {
     "duration": 0.012887,
     "end_time": "2024-02-09T15:14:01.030650",
     "exception": false,
     "start_time": "2024-02-09T15:14:01.017763",
     "status": "completed"
    },
    "tags": []
   },
   "source": [
    "**Question:** Is the linearity assumption met?\n",
    "\n",
    "Because your model does not have any continuous independent variables, the linearity assumption is not required. "
   ]
  },
  {
   "cell_type": "markdown",
   "id": "8a2463b1",
   "metadata": {
    "id": "feeb314a-bbbe-4e9a-8561-2f8af0cd172e",
    "papermill": {
     "duration": 0.011794,
     "end_time": "2024-02-09T15:14:01.054897",
     "exception": false,
     "start_time": "2024-02-09T15:14:01.043103",
     "status": "completed"
    },
    "tags": []
   },
   "source": [
    "The independent observation assumption states that each observation in the dataset is independent. As each marketing promotion (row) is independent from one another, the independence assumption is not violated."
   ]
  },
  {
   "cell_type": "markdown",
   "id": "1712fa50",
   "metadata": {
    "id": "bcccf5c8-3325-4b1e-b491-f151bea5ab1c",
    "papermill": {
     "duration": 0.011108,
     "end_time": "2024-02-09T15:14:01.078211",
     "exception": false,
     "start_time": "2024-02-09T15:14:01.067103",
     "status": "completed"
    },
    "tags": []
   },
   "source": [
    "Next, verify that the normality assumption is upheld for the model."
   ]
  },
  {
   "cell_type": "code",
   "execution_count": 7,
   "id": "5fb80785",
   "metadata": {
    "execution": {
     "iopub.execute_input": "2024-02-09T15:14:01.103887Z",
     "iopub.status.busy": "2024-02-09T15:14:01.103218Z",
     "iopub.status.idle": "2024-02-09T15:14:01.526692Z",
     "shell.execute_reply": "2024-02-09T15:14:01.525570Z"
    },
    "id": "cce8f99b-33e2-4723-9266-4f009e7a15dd",
    "outputId": "ffff6771-35d1-4465-93ea-cd8056c11a32",
    "papermill": {
     "duration": 0.438886,
     "end_time": "2024-02-09T15:14:01.528701",
     "exception": false,
     "start_time": "2024-02-09T15:14:01.089815",
     "status": "completed"
    },
    "tags": []
   },
   "outputs": [
    {
     "name": "stderr",
     "output_type": "stream",
     "text": [
      "/opt/conda/lib/python3.10/site-packages/seaborn/_oldcore.py:1119: FutureWarning: use_inf_as_na option is deprecated and will be removed in a future version. Convert inf values to NaN before operating instead.\n",
      "  with pd.option_context('mode.use_inf_as_na', True):\n"
     ]
    },
    {
     "data": {
      "image/png": "[encoded data removed]",
      "text/plain": [
       "<Figure size 800x400 with 2 Axes>"
      ]
     },
     "metadata": {},
     "output_type": "display_data"
    }
   ],
   "source": [
    "# Calculate the residuals.\n",
    "\n",
    "residuals = model.resid\n",
    "\n",
    "# Create a 1x2 plot figure.\n",
    "fig, axes = plt.subplots(1, 2, figsize = (8,4))\n",
    "\n",
    "# Create a histogram with the residuals.\n",
    "\n",
    "sns.histplot(residuals, ax=axes[0])\n",
    "\n",
    "# Set the x label of the residual plot.\n",
    "axes[0].set_xlabel(\"Residual Value\")\n",
    "\n",
    "# Set the title of the residual plot.\n",
    "axes[0].set_title(\"Histogram of Residuals\")\n",
    "\n",
    "# Create a QQ plot of the residuals.\n",
    "\n",
    "sm.qqplot(residuals, line='s',ax = axes[1])\n",
    "\n",
    "# Set the title of the QQ plot.\n",
    "axes[1].set_title(\"Normal QQ Plot\")\n",
    "\n",
    "# Use matplotlib's tight_layout() function to add space between plots for a cleaner appearance.\n",
    "plt.tight_layout()\n",
    "\n",
    "# Show the plot.\n",
    "plt.show()"
   ]
  },
  {
   "cell_type": "markdown",
   "id": "570c2036",
   "metadata": {
    "id": "39538404-e292-4564-b361-46353fc8e3f0",
    "papermill": {
     "duration": 0.012813,
     "end_time": "2024-02-09T15:14:01.554651",
     "exception": false,
     "start_time": "2024-02-09T15:14:01.541838",
     "status": "completed"
    },
    "tags": []
   },
   "source": [
    "<details>\n",
    "<summary><h4><strong>Hint 1</strong></h4></summary>\n",
    "\n",
    "Access the residuals from the fit model object.\n",
    "\n",
    "</details>"
   ]
  },
  {
   "cell_type": "markdown",
   "id": "d4c39816",
   "metadata": {
    "id": "689dabc4-ad48-4c9e-976e-b70520801385",
    "papermill": {
     "duration": 0.012793,
     "end_time": "2024-02-09T15:14:01.580447",
     "exception": false,
     "start_time": "2024-02-09T15:14:01.567654",
     "status": "completed"
    },
    "tags": []
   },
   "source": [
    "<details>\n",
    "<summary><h4><strong>Hint 2</strong></h4></summary>\n",
    "\n",
    "Use `model.resid` to get the residuals from a fit model called `model`.\n",
    "\n",
    "</details>"
   ]
  },
  {
   "cell_type": "markdown",
   "id": "22bfed21",
   "metadata": {
    "id": "562f868e-45e4-464a-a47e-9f1ed735d6a4",
    "papermill": {
     "duration": 0.012237,
     "end_time": "2024-02-09T15:14:01.605470",
     "exception": false,
     "start_time": "2024-02-09T15:14:01.593233",
     "status": "completed"
    },
    "tags": []
   },
   "source": [
    "<details>\n",
    "<summary><h4><strong>Hint 3</strong></h4></summary>\n",
    "\n",
    "For the histogram, pass the residuals as the first argument in the `seaborn` `histplot()` function.\n",
    "    \n",
    "For the QQ-plot, pass the residuals as the first argument in the `statsmodels` `qqplot()` function.\n",
    "\n",
    "</details>"
   ]
  },
  {
   "cell_type": "markdown",
   "id": "3a039f92",
   "metadata": {
    "id": "e41f4dd7-5501-43b7-b684-58bad8ff61fb",
    "papermill": {
     "duration": 0.013768,
     "end_time": "2024-02-09T15:14:01.631804",
     "exception": false,
     "start_time": "2024-02-09T15:14:01.618036",
     "status": "completed"
    },
    "tags": []
   },
   "source": [
    "**Question:** Is the normality assumption met?\n",
    "\n",
    "There is reasonable concern that the normality assumption is not met when `TV` is used as the independent variable predicting `Sales`. The normal q-q forms an 'S' that deviates off the red diagonal line, which is not desired behavior. \n",
    "\n",
    "However, for the purpose of the lab, continue assuming the normality assumption is met."
   ]
  },
  {
   "cell_type": "markdown",
   "id": "4706572e",
   "metadata": {
    "id": "be83ac10-d1d0-4b94-88de-5de424528547",
    "papermill": {
     "duration": 0.012885,
     "end_time": "2024-02-09T15:14:01.657743",
     "exception": false,
     "start_time": "2024-02-09T15:14:01.644858",
     "status": "completed"
    },
    "tags": []
   },
   "source": [
    "Now, verify the constant variance (homoscedasticity) assumption is met for this model."
   ]
  },
  {
   "cell_type": "code",
   "execution_count": 8,
   "id": "7db42b59",
   "metadata": {
    "execution": {
     "iopub.execute_input": "2024-02-09T15:14:01.685558Z",
     "iopub.status.busy": "2024-02-09T15:14:01.684599Z",
     "iopub.status.idle": "2024-02-09T15:14:01.871083Z",
     "shell.execute_reply": "2024-02-09T15:14:01.870412Z"
    },
    "id": "efcd0325-b3a0-42d1-ad57-38f10800c35e",
    "outputId": "740a539a-63bc-4c93-b444-b601ab26a6db",
    "papermill": {
     "duration": 0.202319,
     "end_time": "2024-02-09T15:14:01.872803",
     "exception": false,
     "start_time": "2024-02-09T15:14:01.670484",
     "status": "completed"
    },
    "tags": []
   },
   "outputs": [
    {
     "data": {
      "image/png": "[encoded data removed]",
      "text/plain": [
       "<Figure size 640x480 with 1 Axes>"
      ]
     },
     "metadata": {},
     "output_type": "display_data"
    }
   ],
   "source": [
    "# Create a scatter plot with the fitted values from the model and the residuals.\n",
    "\n",
    "fig = sns.scatterplot(x = model.fittedvalues, y = model.resid)\n",
    "\n",
    "# Set the x axis label\n",
    "fig.set_xlabel(\"Fitted Values\")\n",
    "\n",
    "# Set the y axis label\n",
    "fig.set_ylabel(\"Residuals\")\n",
    "\n",
    "# Set the title\n",
    "fig.set_title(\"Fitted Values v. Residuals\")\n",
    "\n",
    "# Add a line at y = 0 to visualize the variance of residuals above and below 0.\n",
    "\n",
    "fig.axhline(0)\n",
    "\n",
    "# Show the plot\n",
    "plt.show()"
   ]
  },
  {
   "cell_type": "markdown",
   "id": "c2ff5631",
   "metadata": {
    "id": "662f104d-0977-498f-8159-501063f3c3fc",
    "papermill": {
     "duration": 0.012505,
     "end_time": "2024-02-09T15:14:01.898785",
     "exception": false,
     "start_time": "2024-02-09T15:14:01.886280",
     "status": "completed"
    },
    "tags": []
   },
   "source": [
    "<details>\n",
    "<summary><h4><strong>Hint 1</strong></h4></summary>\n",
    "\n",
    "Access the fitted values from the model object fit earlier.\n",
    "\n",
    "</details>"
   ]
  },
  {
   "cell_type": "markdown",
   "id": "324724ba",
   "metadata": {
    "id": "b0a3d26c-1e80-46e3-849a-d7f054cffb52",
    "jp-MarkdownHeadingCollapsed": true,
    "papermill": {
     "duration": 0.012814,
     "end_time": "2024-02-09T15:14:01.924584",
     "exception": false,
     "start_time": "2024-02-09T15:14:01.911770",
     "status": "completed"
    },
    "tags": []
   },
   "source": [
    "<details>\n",
    "<summary><h4><strong>Hint 2</strong></h4></summary>\n",
    "\n",
    "Use `model.fittedvalues` to get the fitted values from the fit model called `model`.\n",
    "\n",
    "</details>"
   ]
  },
  {
   "cell_type": "markdown",
   "id": "d186662f",
   "metadata": {
    "id": "5830cbfc-9204-42a6-b24f-3cf1334ff41e",
    "jp-MarkdownHeadingCollapsed": true,
    "papermill": {
     "duration": 0.01241,
     "end_time": "2024-02-09T15:14:01.950099",
     "exception": false,
     "start_time": "2024-02-09T15:14:01.937689",
     "status": "completed"
    },
    "tags": []
   },
   "source": [
    "<details>\n",
    "<summary><h4><strong>Hint 3</strong></h4></summary>\n",
    "\n",
    "\n",
    "Call the `scatterplot()` function from the `seaborn` library and pass in the fitted values and residuals.\n",
    "    \n",
    "Add a line to a figure using the `axline()` function.\n",
    "\n",
    "</details>"
   ]
  },
  {
   "cell_type": "markdown",
   "id": "10fa3b05",
   "metadata": {
    "id": "8318f726-369c-446a-acad-85117e43459b",
    "papermill": {
     "duration": 0.015329,
     "end_time": "2024-02-09T15:14:01.979552",
     "exception": false,
     "start_time": "2024-02-09T15:14:01.964223",
     "status": "completed"
    },
    "tags": []
   },
   "source": [
    "**Question:** Is the constant variance (homoscedasticity) assumption met?\n",
    "\n",
    "The variance where there are fitted values is similarly distributed, validating that the constant variance assumption is met."
   ]
  },
  {
   "cell_type": "markdown",
   "id": "11f39566",
   "metadata": {
    "id": "84373d80-2129-4124-85fa-85871671004b",
    "papermill": {
     "duration": 0.01682,
     "end_time": "2024-02-09T15:14:02.015438",
     "exception": false,
     "start_time": "2024-02-09T15:14:01.998618",
     "status": "completed"
    },
    "tags": []
   },
   "source": [
    "## **Step 5: Results and evaluation** "
   ]
  },
  {
   "cell_type": "markdown",
   "id": "b96bf0a5",
   "metadata": {
    "id": "30f5a3e8-a446-4a64-a0cb-4a512a367111",
    "papermill": {
     "duration": 0.014019,
     "end_time": "2024-02-09T15:14:02.043417",
     "exception": false,
     "start_time": "2024-02-09T15:14:02.029398",
     "status": "completed"
    },
    "tags": []
   },
   "source": [
    "First, display the OLS regression results."
   ]
  },
  {
   "cell_type": "code",
   "execution_count": 9,
   "id": "4c23487d",
   "metadata": {
    "execution": {
     "iopub.execute_input": "2024-02-09T15:14:02.074454Z",
     "iopub.status.busy": "2024-02-09T15:14:02.073772Z",
     "iopub.status.idle": "2024-02-09T15:14:02.096161Z",
     "shell.execute_reply": "2024-02-09T15:14:02.095002Z"
    },
    "id": "7d0bfc27-05f7-4cfa-9aa1-8e2110eabd69",
    "outputId": "bb9734f5-3d8b-4ebc-b8d6-fe4f0125d2b5",
    "papermill": {
     "duration": 0.041893,
     "end_time": "2024-02-09T15:14:02.098282",
     "exception": false,
     "start_time": "2024-02-09T15:14:02.056389",
     "status": "completed"
    },
    "tags": []
   },
   "outputs": [
    {
     "data": {
      "text/html": [
       "<table class=\"simpletable\">\n",
       "<caption>OLS Regression Results</caption>\n",
       "<tr>\n",
       "  <th>Dep. Variable:</th>          <td>Sales</td>      <th>  R-squared:         </th> <td>   0.871</td> \n",
       "</tr>\n",
       "<tr>\n",
       "  <th>Model:</th>                   <td>OLS</td>       <th>  Adj. R-squared:    </th> <td>   0.870</td> \n",
       "</tr>\n",
       "<tr>\n",
       "  <th>Method:</th>             <td>Least Squares</td>  <th>  F-statistic:       </th> <td>   1918.</td> \n",
       "</tr>\n",
       "<tr>\n",
       "  <th>Date:</th>             <td>Fri, 09 Feb 2024</td> <th>  Prob (F-statistic):</th> <td>1.38e-253</td>\n",
       "</tr>\n",
       "<tr>\n",
       "  <th>Time:</th>                 <td>15:14:00</td>     <th>  Log-Likelihood:    </th> <td> -2798.9</td> \n",
       "</tr>\n",
       "<tr>\n",
       "  <th>No. Observations:</th>      <td>   572</td>      <th>  AIC:               </th> <td>   5604.</td> \n",
       "</tr>\n",
       "<tr>\n",
       "  <th>Df Residuals:</th>          <td>   569</td>      <th>  BIC:               </th> <td>   5617.</td> \n",
       "</tr>\n",
       "<tr>\n",
       "  <th>Df Model:</th>              <td>     2</td>      <th>                     </th>     <td> </td>    \n",
       "</tr>\n",
       "<tr>\n",
       "  <th>Covariance Type:</th>      <td>nonrobust</td>    <th>                     </th>     <td> </td>    \n",
       "</tr>\n",
       "</table>\n",
       "<table class=\"simpletable\">\n",
       "<tr>\n",
       "         <td></td>            <th>coef</th>     <th>std err</th>      <th>t</th>      <th>P>|t|</th>  <th>[0.025</th>    <th>0.975]</th>  \n",
       "</tr>\n",
       "<tr>\n",
       "  <th>Intercept</th>       <td>  300.8532</td> <td>    2.512</td> <td>  119.789</td> <td> 0.000</td> <td>  295.920</td> <td>  305.786</td>\n",
       "</tr>\n",
       "<tr>\n",
       "  <th>C(TV)[T.Low]</th>    <td> -209.8691</td> <td>    3.394</td> <td>  -61.841</td> <td> 0.000</td> <td> -216.535</td> <td> -203.203</td>\n",
       "</tr>\n",
       "<tr>\n",
       "  <th>C(TV)[T.Medium]</th> <td> -105.4952</td> <td>    3.379</td> <td>  -31.224</td> <td> 0.000</td> <td> -112.131</td> <td>  -98.859</td>\n",
       "</tr>\n",
       "</table>\n",
       "<table class=\"simpletable\">\n",
       "<tr>\n",
       "  <th>Omnibus:</th>       <td>547.584</td> <th>  Durbin-Watson:     </th> <td>   1.960</td>\n",
       "</tr>\n",
       "<tr>\n",
       "  <th>Prob(Omnibus):</th> <td> 0.000</td>  <th>  Jarque-Bera (JB):  </th> <td>  37.103</td>\n",
       "</tr>\n",
       "<tr>\n",
       "  <th>Skew:</th>          <td> 0.015</td>  <th>  Prob(JB):          </th> <td>8.77e-09</td>\n",
       "</tr>\n",
       "<tr>\n",
       "  <th>Kurtosis:</th>      <td> 1.753</td>  <th>  Cond. No.          </th> <td>    3.97</td>\n",
       "</tr>\n",
       "</table><br/><br/>Notes:<br/>[1] Standard Errors assume that the covariance matrix of the errors is correctly specified."
      ],
      "text/latex": [
       "\\begin{center}\n",
       "\\begin{tabular}{lclc}\n",
       "\\toprule\n",
       "\\textbf{Dep. Variable:}    &      Sales       & \\textbf{  R-squared:         } &     0.871   \\\\\n",
       "\\textbf{Model:}            &       OLS        & \\textbf{  Adj. R-squared:    } &     0.870   \\\\\n",
       "\\textbf{Method:}           &  Least Squares   & \\textbf{  F-statistic:       } &     1918.   \\\\\n",
       "\\textbf{Date:}             & Fri, 09 Feb 2024 & \\textbf{  Prob (F-statistic):} & 1.38e-253   \\\\\n",
       "\\textbf{Time:}             &     15:14:00     & \\textbf{  Log-Likelihood:    } &   -2798.9   \\\\\n",
       "\\textbf{No. Observations:} &         572      & \\textbf{  AIC:               } &     5604.   \\\\\n",
       "\\textbf{Df Residuals:}     &         569      & \\textbf{  BIC:               } &     5617.   \\\\\n",
       "\\textbf{Df Model:}         &           2      & \\textbf{                     } &             \\\\\n",
       "\\textbf{Covariance Type:}  &    nonrobust     & \\textbf{                     } &             \\\\\n",
       "\\bottomrule\n",
       "\\end{tabular}\n",
       "\\begin{tabular}{lcccccc}\n",
       "                         & \\textbf{coef} & \\textbf{std err} & \\textbf{t} & \\textbf{P$> |$t$|$} & \\textbf{[0.025} & \\textbf{0.975]}  \\\\\n",
       "\\midrule\n",
       "\\textbf{Intercept}       &     300.8532  &        2.512     &   119.789  &         0.000        &      295.920    &      305.786     \\\\\n",
       "\\textbf{C(TV)[T.Low]}    &    -209.8691  &        3.394     &   -61.841  &         0.000        &     -216.535    &     -203.203     \\\\\n",
       "\\textbf{C(TV)[T.Medium]} &    -105.4952  &        3.379     &   -31.224  &         0.000        &     -112.131    &      -98.859     \\\\\n",
       "\\bottomrule\n",
       "\\end{tabular}\n",
       "\\begin{tabular}{lclc}\n",
       "\\textbf{Omnibus:}       & 547.584 & \\textbf{  Durbin-Watson:     } &    1.960  \\\\\n",
       "\\textbf{Prob(Omnibus):} &   0.000 & \\textbf{  Jarque-Bera (JB):  } &   37.103  \\\\\n",
       "\\textbf{Skew:}          &   0.015 & \\textbf{  Prob(JB):          } & 8.77e-09  \\\\\n",
       "\\textbf{Kurtosis:}      &   1.753 & \\textbf{  Cond. No.          } &     3.97  \\\\\n",
       "\\bottomrule\n",
       "\\end{tabular}\n",
       "%\\caption{OLS Regression Results}\n",
       "\\end{center}\n",
       "\n",
       "Notes: \\newline\n",
       " [1] Standard Errors assume that the covariance matrix of the errors is correctly specified."
      ],
      "text/plain": [
       "<class 'statsmodels.iolib.summary.Summary'>\n",
       "\"\"\"\n",
       "                            OLS Regression Results                            \n",
       "==============================================================================\n",
       "Dep. Variable:                  Sales   R-squared:                       0.871\n",
       "Model:                            OLS   Adj. R-squared:                  0.870\n",
       "Method:                 Least Squares   F-statistic:                     1918.\n",
       "Date:                Fri, 09 Feb 2024   Prob (F-statistic):          1.38e-253\n",
       "Time:                        15:14:00   Log-Likelihood:                -2798.9\n",
       "No. Observations:                 572   AIC:                             5604.\n",
       "Df Residuals:                     569   BIC:                             5617.\n",
       "Df Model:                           2                                         \n",
       "Covariance Type:            nonrobust                                         \n",
       "===================================================================================\n",
       "                      coef    std err          t      P>|t|      [0.025      0.975]\n",
       "-----------------------------------------------------------------------------------\n",
       "Intercept         300.8532      2.512    119.789      0.000     295.920     305.786\n",
       "C(TV)[T.Low]     -209.8691      3.394    -61.841      0.000    -216.535    -203.203\n",
       "C(TV)[T.Medium]  -105.4952      3.379    -31.224      0.000    -112.131     -98.859\n",
       "==============================================================================\n",
       "Omnibus:                      547.584   Durbin-Watson:                   1.960\n",
       "Prob(Omnibus):                  0.000   Jarque-Bera (JB):               37.103\n",
       "Skew:                           0.015   Prob(JB):                     8.77e-09\n",
       "Kurtosis:                       1.753   Cond. No.                         3.97\n",
       "==============================================================================\n",
       "\n",
       "Notes:\n",
       "[1] Standard Errors assume that the covariance matrix of the errors is correctly specified.\n",
       "\"\"\""
      ]
     },
     "execution_count": 9,
     "metadata": {},
     "output_type": "execute_result"
    }
   ],
   "source": [
    "# Display the model results summary. \n",
    "model_results"
   ]
  },
  {
   "cell_type": "markdown",
   "id": "8b100e67",
   "metadata": {
    "id": "b29062e1-5c7f-4a78-b782-a07236bbcc28",
    "papermill": {
     "duration": 0.015823,
     "end_time": "2024-02-09T15:14:02.130525",
     "exception": false,
     "start_time": "2024-02-09T15:14:02.114702",
     "status": "completed"
    },
    "tags": []
   },
   "source": [
    "**Question:** What is your interpretation of the model's R-squared?\n",
    "\n",
    "Using `TV` as the independent variable results in a linear regression model with $R^{2} = 0.874$. In other words, the model explains $87.4\\%$ of the variation in `Sales`. This makes the model an effective predictor of `Sales`. "
   ]
  },
  {
   "cell_type": "markdown",
   "id": "1397f1ee",
   "metadata": {
    "id": "8ca575f3-cbba-4a0a-99d0-b8bf82ea49e4",
    "papermill": {
     "duration": 0.012506,
     "end_time": "2024-02-09T15:14:02.156385",
     "exception": false,
     "start_time": "2024-02-09T15:14:02.143879",
     "status": "completed"
    },
    "tags": []
   },
   "source": [
    "**Question:** What is your intepretation of the coefficient estimates? Are the coefficients statistically significant?\n",
    "\n",
    "The default `TV` category for the model is `High`, because there are coefficients for the other two `TV` categories, `Medium` and `Low`. According to the model, `Sales` with a `Medium` or `Low` `TV` category are lower on average than `Sales` with a `High` `TV` category. For example, the model predicts that a `Low` `TV` promotion would be 208.813 (in millions of dollars) lower in `Sales` on average than a `High` `TV` promotion.\n",
    "\n",
    "The p-value for all coefficients is $0.000$, meaning all coefficients are statistically significant at $p=0.05$. The 95% confidence intervals for each coefficient should be reported when presenting results to stakeholders. For instance, there is a $95\\%$ chance the interval $[-215.353,-202.274]$ contains the true parameter of the slope of $\\beta_{TVLow}$, which is the estimated difference in promotion sales when a `Low` `TV` promotion is chosen instead of a `High` `TV` promotion."
   ]
  },
  {
   "cell_type": "markdown",
   "id": "ffe70820",
   "metadata": {
    "id": "b7e61507-0dd5-4d32-8045-ba06cc37fcd4",
    "papermill": {
     "duration": 0.015511,
     "end_time": "2024-02-09T15:14:02.185642",
     "exception": false,
     "start_time": "2024-02-09T15:14:02.170131",
     "status": "completed"
    },
    "tags": []
   },
   "source": [
    "**Question:** Do you think your model could be improved? Why or why not? How?\n",
    "\n",
    "Given how accurate `TV` was as a predictor, the model could be improved with a more granular view of the `TV` promotions, such as additional categories or the actual `TV` promotion budgets. Further, additional variables, such as the location of the marketing campaign or the time of year, may increase model accuracy. "
   ]
  },
  {
   "cell_type": "markdown",
   "id": "b0fa6bf2",
   "metadata": {
    "id": "97b169ad-b113-46e3-996a-53f268adbc6d",
    "papermill": {
     "duration": 0.013089,
     "end_time": "2024-02-09T15:14:02.213746",
     "exception": false,
     "start_time": "2024-02-09T15:14:02.200657",
     "status": "completed"
    },
    "tags": []
   },
   "source": [
    "# Perform a one-way ANOVA test\n",
    "\n",
    "With the model fit, run a one-way ANOVA test to determine whether there is a statistically significant difference in `Sales` among groups. "
   ]
  },
  {
   "cell_type": "code",
   "execution_count": 10,
   "id": "77a5ac5a",
   "metadata": {
    "execution": {
     "iopub.execute_input": "2024-02-09T15:14:02.245170Z",
     "iopub.status.busy": "2024-02-09T15:14:02.244762Z",
     "iopub.status.idle": "2024-02-09T15:14:02.262576Z",
     "shell.execute_reply": "2024-02-09T15:14:02.261758Z"
    },
    "id": "aadfa800-a74c-4819-abb8-cda13ce16d96",
    "outputId": "60838468-0b68-4394-902c-af3f4a6af11e",
    "papermill": {
     "duration": 0.035147,
     "end_time": "2024-02-09T15:14:02.264212",
     "exception": false,
     "start_time": "2024-02-09T15:14:02.229065",
     "status": "completed"
    },
    "scrolled": true,
    "tags": []
   },
   "outputs": [
    {
     "data": {
      "text/html": [
       "<div>\n",
       "<style scoped>\n",
       "    .dataframe tbody tr th:only-of-type {\n",
       "        vertical-align: middle;\n",
       "    }\n",
       "\n",
       "    .dataframe tbody tr th {\n",
       "        vertical-align: top;\n",
       "    }\n",
       "\n",
       "    .dataframe thead th {\n",
       "        text-align: right;\n",
       "    }\n",
       "</style>\n",
       "<table border=\"1\" class=\"dataframe\">\n",
       "  <thead>\n",
       "    <tr style=\"text-align: right;\">\n",
       "      <th></th>\n",
       "      <th>sum_sq</th>\n",
       "      <th>df</th>\n",
       "      <th>F</th>\n",
       "      <th>PR(&gt;F)</th>\n",
       "    </tr>\n",
       "  </thead>\n",
       "  <tbody>\n",
       "    <tr>\n",
       "      <th>C(TV)</th>\n",
       "      <td>4.016116e+06</td>\n",
       "      <td>2.0</td>\n",
       "      <td>1917.749265</td>\n",
       "      <td>1.383230e-253</td>\n",
       "    </tr>\n",
       "    <tr>\n",
       "      <th>Residual</th>\n",
       "      <td>5.957948e+05</td>\n",
       "      <td>569.0</td>\n",
       "      <td>NaN</td>\n",
       "      <td>NaN</td>\n",
       "    </tr>\n",
       "  </tbody>\n",
       "</table>\n",
       "</div>"
      ],
      "text/plain": [
       "                sum_sq     df            F         PR(>F)\n",
       "C(TV)     4.016116e+06    2.0  1917.749265  1.383230e-253\n",
       "Residual  5.957948e+05  569.0          NaN            NaN"
      ]
     },
     "execution_count": 10,
     "metadata": {},
     "output_type": "execute_result"
    }
   ],
   "source": [
    "# Create an one-way ANOVA table for the fit model.\n",
    "\n",
    "sm.stats.anova_lm(model, typ=2)"
   ]
  },
  {
   "cell_type": "markdown",
   "id": "0d55c807",
   "metadata": {
    "id": "3574a603-96c3-4876-80bd-9864a1e466d6",
    "papermill": {
     "duration": 0.012917,
     "end_time": "2024-02-09T15:14:02.291001",
     "exception": false,
     "start_time": "2024-02-09T15:14:02.278084",
     "status": "completed"
    },
    "tags": []
   },
   "source": [
    "<details>\n",
    "<summary><h4><strong>Hint 1</strong></h4></summary>\n",
    "\n",
    "Review what you've learned about how to perform a one-way ANOVA test.\n",
    "\n",
    "</details>"
   ]
  },
  {
   "cell_type": "markdown",
   "id": "1dad387e",
   "metadata": {
    "id": "f1010b34-96b2-403a-8630-e83613ff40be",
    "papermill": {
     "duration": 0.012813,
     "end_time": "2024-02-09T15:14:02.316846",
     "exception": false,
     "start_time": "2024-02-09T15:14:02.304033",
     "status": "completed"
    },
    "tags": []
   },
   "source": [
    "<details>\n",
    "<summary><h4><strong>Hint 2</strong></h4></summary>\n",
    "\n",
    "There is a function in `statsmodels.api` (i.e. `sm`) that peforms an ANOVA test for a fit linear model.\n",
    "\n",
    "</details>"
   ]
  },
  {
   "cell_type": "markdown",
   "id": "dbd9b18d",
   "metadata": {
    "id": "b0ccc536-34c6-4bb7-a022-a2e4bec62397",
    "papermill": {
     "duration": 0.013299,
     "end_time": "2024-02-09T15:14:02.343795",
     "exception": false,
     "start_time": "2024-02-09T15:14:02.330496",
     "status": "completed"
    },
    "tags": []
   },
   "source": [
    "<details>\n",
    "<summary><h4><strong>Hint 3</strong></h4></summary>\n",
    "\n",
    "Use the `anova_lm()` function from `sm.stats`. \n",
    "\n",
    "</details>"
   ]
  },
  {
   "cell_type": "markdown",
   "id": "9ef9b6d0",
   "metadata": {
    "id": "735c20e2-bd53-4e36-81bd-38ae78a4d4a8",
    "papermill": {
     "duration": 0.014417,
     "end_time": "2024-02-09T15:14:02.372039",
     "exception": false,
     "start_time": "2024-02-09T15:14:02.357622",
     "status": "completed"
    },
    "tags": []
   },
   "source": [
    "**Question:** What are the null and alternative hypotheses for the ANOVA test?\n",
    "\n",
    "The null hypothesis is that there is no difference in `Sales` based on the `TV` promotion budget.\n",
    "\n",
    "The alternative hypothesis is that there is a difference in `Sales` based on the `TV` promotion budget."
   ]
  },
  {
   "cell_type": "markdown",
   "id": "6154ec8c",
   "metadata": {
    "id": "1f5807cb-aff6-4877-a70c-7dbffdb822e3",
    "papermill": {
     "duration": 0.013796,
     "end_time": "2024-02-09T15:14:02.402880",
     "exception": false,
     "start_time": "2024-02-09T15:14:02.389084",
     "status": "completed"
    },
    "tags": []
   },
   "source": [
    "**Question:** What is your conclusion from the one-way ANOVA test?\n",
    "\n",
    "The F-test statistic is 1971.46 and the p-value is $8.81 * 10^{-256}$ (i.e., very small). Because the p-value is less than 0.05, you would reject the null hypothesis that there is no difference in `Sales` based on the `TV` promotion budget."
   ]
  },
  {
   "cell_type": "markdown",
   "id": "89f76a02",
   "metadata": {
    "id": "6e1d8561-3957-400b-89d1-4330ee923193",
    "papermill": {
     "duration": 0.014809,
     "end_time": "2024-02-09T15:14:02.431042",
     "exception": false,
     "start_time": "2024-02-09T15:14:02.416233",
     "status": "completed"
    },
    "tags": []
   },
   "source": [
    "**Question:** What did the ANOVA test tell you?\n",
    "\n",
    "The results of the one-way ANOVA test indicate that you can reject the null hypothesis in favor of the alternative hypothesis. There is a statistically significant difference in `Sales` among `TV` groups."
   ]
  },
  {
   "cell_type": "markdown",
   "id": "b4f9f5c8",
   "metadata": {
    "id": "532a2ba1-8e9a-4c8f-b432-dfeea0e62fc4",
    "papermill": {
     "duration": 0.013895,
     "end_time": "2024-02-09T15:14:02.458541",
     "exception": false,
     "start_time": "2024-02-09T15:14:02.444646",
     "status": "completed"
    },
    "tags": []
   },
   "source": [
    "#  Perform an ANOVA post hoc test\n",
    "\n",
    "If you have significant results from the one-way ANOVA test, you can apply ANOVA post hoc tests such as the Tukey’s HSD post hoc test. \n",
    "\n",
    "Run the Tukey’s HSD post hoc test to compare if there is a significant difference between each pair of categories for TV."
   ]
  },
  {
   "cell_type": "code",
   "execution_count": 11,
   "id": "65cdb259",
   "metadata": {
    "execution": {
     "iopub.execute_input": "2024-02-09T15:14:02.487993Z",
     "iopub.status.busy": "2024-02-09T15:14:02.487332Z",
     "iopub.status.idle": "2024-02-09T15:14:02.708386Z",
     "shell.execute_reply": "2024-02-09T15:14:02.706855Z"
    },
    "id": "cce84e77-6269-4295-b961-8350a4b4920c",
    "outputId": "3ebeb14a-67ce-4183-d601-2422b80b7470",
    "papermill": {
     "duration": 0.238533,
     "end_time": "2024-02-09T15:14:02.710674",
     "exception": false,
     "start_time": "2024-02-09T15:14:02.472141",
     "status": "completed"
    },
    "tags": []
   },
   "outputs": [
    {
     "data": {
      "text/html": [
       "<table class=\"simpletable\">\n",
       "<caption>Multiple Comparison of Means - Tukey HSD, FWER=0.05</caption>\n",
       "<tr>\n",
       "  <th>group1</th> <th>group2</th> <th>meandiff</th>  <th>p-adj</th>   <th>lower</th>     <th>upper</th>   <th>reject</th>\n",
       "</tr>\n",
       "<tr>\n",
       "   <td>High</td>    <td>Low</td>  <td>-209.8691</td>  <td>0.0</td>  <td>-217.8438</td> <td>-201.8944</td>  <td>True</td> \n",
       "</tr>\n",
       "<tr>\n",
       "   <td>High</td>  <td>Medium</td> <td>-105.4952</td>  <td>0.0</td>  <td>-113.4346</td> <td>-97.5557</td>   <td>True</td> \n",
       "</tr>\n",
       "<tr>\n",
       "    <td>Low</td>  <td>Medium</td> <td>104.3739</td>   <td>0.0</td>   <td>96.8261</td>  <td>111.9218</td>   <td>True</td> \n",
       "</tr>\n",
       "</table>"
      ],
      "text/latex": [
       "\\begin{center}\n",
       "\\begin{tabular}{ccccccc}\n",
       "\\toprule\n",
       "\\textbf{group1} & \\textbf{group2} & \\textbf{meandiff} & \\textbf{p-adj} & \\textbf{lower} & \\textbf{upper} & \\textbf{reject}  \\\\\n",
       "\\midrule\n",
       "      High      &       Low       &     -209.8691     &      0.0       &   -217.8438    &   -201.8944    &       True       \\\\\n",
       "      High      &      Medium     &     -105.4952     &      0.0       &   -113.4346    &    -97.5557    &       True       \\\\\n",
       "      Low       &      Medium     &      104.3739     &      0.0       &    96.8261     &    111.9218    &       True       \\\\\n",
       "\\bottomrule\n",
       "\\end{tabular}\n",
       "%\\caption{Multiple Comparison of Means - Tukey HSD, FWER=0.05}\n",
       "\\end{center}"
      ],
      "text/plain": [
       "<class 'statsmodels.iolib.table.SimpleTable'>"
      ]
     },
     "execution_count": 11,
     "metadata": {},
     "output_type": "execute_result"
    }
   ],
   "source": [
    "# Perform the Tukey's HSD post hoc test.\n",
    "\n",
    "tukey_oneway = pairwise_tukeyhsd(endog = data[\"Sales\"], groups = data[\"TV\"])\n",
    "\n",
    "# Display the results\n",
    "tukey_oneway.summary()"
   ]
  },
  {
   "cell_type": "markdown",
   "id": "a494a270",
   "metadata": {
    "id": "119b0c6f-b7c7-47a7-80cb-ed94a07fc61c",
    "papermill": {
     "duration": 0.015959,
     "end_time": "2024-02-09T15:14:02.741421",
     "exception": false,
     "start_time": "2024-02-09T15:14:02.725462",
     "status": "completed"
    },
    "tags": []
   },
   "source": [
    "<details>\n",
    "<summary><h4><strong>Hint 1</strong></h4></summary>\n",
    "\n",
    "Review what you've learned about how to perform a Tukey's HSD post hoc test.\n",
    "\n",
    "</details>"
   ]
  },
  {
   "cell_type": "markdown",
   "id": "a8534ad9",
   "metadata": {
    "id": "3adb039f-15d0-4f36-848b-3b469cd4d65d",
    "papermill": {
     "duration": 0.013809,
     "end_time": "2024-02-09T15:14:02.769421",
     "exception": false,
     "start_time": "2024-02-09T15:14:02.755612",
     "status": "completed"
    },
    "tags": []
   },
   "source": [
    "<details>\n",
    "<summary><h4><strong>Hint 2</strong></h4></summary>\n",
    "\n",
    "Use the `pairwise_tukeyhsd()` function from `statsmodels.stats.multicomp`.\n",
    "\n",
    "</details>"
   ]
  },
  {
   "cell_type": "markdown",
   "id": "53722590",
   "metadata": {
    "id": "5169a823-fd23-41bc-9766-1b3fd4bff1dc",
    "papermill": {
     "duration": 0.013403,
     "end_time": "2024-02-09T15:14:02.796922",
     "exception": false,
     "start_time": "2024-02-09T15:14:02.783519",
     "status": "completed"
    },
    "tags": []
   },
   "source": [
    "<details>\n",
    "<summary><h4><strong>Hint 3</strong></h4></summary>\n",
    "\n",
    "The `endog` argument in `pairwise_tukeyhsd` indicates which variable is being compared across groups (i.e., `Sales`). The `groups` argument in `pairwise_tukeyhsd` tells the function which variable holds the group you’re interested in reviewing.\n",
    "\n",
    "</details>"
   ]
  },
  {
   "cell_type": "markdown",
   "id": "2493c328",
   "metadata": {
    "id": "529c0b8a-8ffb-445f-b045-521646408c16",
    "papermill": {
     "duration": 0.014142,
     "end_time": "2024-02-09T15:14:02.824811",
     "exception": false,
     "start_time": "2024-02-09T15:14:02.810669",
     "status": "completed"
    },
    "tags": []
   },
   "source": [
    "**Question:** What is your interpretation of the Tukey HSD test?\n",
    "\n",
    "The first row, which compares the `High` and `Low` `TV` groups, indicates that you can reject the null hypothesis that there is no significant difference between the `Sales` of these two groups.\n",
    "\n",
    "You can also reject the null hypotheses for the two other pairwise comparisons that compare `High` to `Medium` and `Low` to `Medium`."
   ]
  },
  {
   "cell_type": "markdown",
   "id": "8b8bd60e",
   "metadata": {
    "id": "f1bd994c-52ca-49ac-ba00-51bc36d07842",
    "papermill": {
     "duration": 0.016017,
     "end_time": "2024-02-09T15:14:02.855235",
     "exception": false,
     "start_time": "2024-02-09T15:14:02.839218",
     "status": "completed"
    },
    "tags": []
   },
   "source": [
    "**Question:** What did the post hoc tell you?\n",
    "\n",
    "A post hoc test was conducted to determine which `TV` groups are different and how many are different from each other. This provides more detail than the one-way ANOVA results, which can at most determine that at least one group is different. Further, using the Tukey HSD controls for the increasing probability of incorrectly rejecting a null hypothesis from peforming multiple tests. \n",
    "\n",
    "The results were that `Sales` is not the same between any pair of `TV` groups. "
   ]
  },
  {
   "cell_type": "markdown",
   "id": "c165bbf0",
   "metadata": {
    "id": "agx1bDPU9cd4",
    "papermill": {
     "duration": 0.013109,
     "end_time": "2024-02-09T15:14:02.882614",
     "exception": false,
     "start_time": "2024-02-09T15:14:02.869505",
     "status": "completed"
    },
    "tags": []
   },
   "source": [
    "# **Considerations**\n",
    "\n",
    "**What are some key takeaways that you learned during this lab?**\n",
    "\n",
    "* Box-plots are a helpful tool for visualizing the distribution of a variable across groups.\n",
    "* One-way ANOVA can be used to determine if there are significant differences among the means of three or more groups.\n",
    "* ANOVA post hoc tests provide a more detailed view of the pairwise differences between groups.\n",
    "\n",
    "**What summary would you provide to stakeholders? Consider the statistical significance of key relationships and differences in distribution.**\n",
    "\n",
    "High TV promotion budgets result in significantly more sales than both medium and low TV promotion budgets. Medium TV promotion budgets result in significantly more sales than low TV promotion budgets.\n",
    "\n",
    "\n",
    "Specifically, following are estimates for the difference between the mean sales resulting from different pairs of TV promotions, as determined by the Tukey's HSD test:\n",
    "\n",
    "* Estimated difference between the mean sales resulting from High and Low TV promotions: \\\\$208.81 million (with 95% confidence that the exact value for this difference is between 200.99 and 216.64 million dollars). \n",
    "* Estimated difference between the mean sales resulting from High and Medium TV promotions: \\\\$101.51 million (with 95% confidence that the exact value for this difference is between 93.69 and 109.32 million dollars).\n",
    "* difference between the mean sales resulting from Medium and Low TV promotions: \\\\$107.31 million (with 95\\% confidence that the exact value for this difference is between 99.71 and 114.91 million dollars).\n",
    "\n",
    "The linear regression model estimating `Sales` from `TV` had an R-squared of $0.871, making it a fairly accurate estimator. The model showed a statistically significant relationship between the `TV` promotion budget and `Sales`. \n",
    "\n",
    "The results of the one-way ANOVA test indicate that the null hypothesis that there is no difference in Sales based on the TV promotion budget can be rejected. Through the ANOVA post hoc test, a significant difference between all pairs of TV promotions was found.\n",
    "\n",
    "The difference in the distribution of sales across TV promotions was determined significant by both a one-way ANOVA test and a Tukey’s HSD test. \n"
   ]
  }
 ],
 "metadata": {
  "colab": {
   "collapsed_sections": [],
   "provenance": []
  },
  "kaggle": {
   "accelerator": "none",
   "dataSources": [
    {
     "datasetId": 4421730,
     "sourceId": 7596441,
     "sourceType": "datasetVersion"
    }
   ],
   "dockerImageVersionId": 30646,
   "isGpuEnabled": false,
   "isInternetEnabled": true,
   "language": "python",
   "sourceType": "notebook"
  },
  "kernelspec": {
   "display_name": "Python 3",
   "language": "python",
   "name": "python3"
  },
  "language_info": {
   "codemirror_mode": {
    "name": "ipython",
    "version": 3
   },
   "file_extension": ".py",
   "mimetype": "text/x-python",
   "name": "python",
   "nbconvert_exporter": "python",
   "pygments_lexer": "ipython3",
   "version": "3.10.13"
  },
  "papermill": {
   "default_parameters": {},
   "duration": 10.591264,
   "end_time": "2024-02-09T15:14:03.716924",
   "environment_variables": {},
   "exception": null,
   "input_path": "__notebook__.ipynb",
   "output_path": "__notebook__.ipynb",
   "parameters": {},
   "start_time": "2024-02-09T15:13:53.125660",
   "version": "2.5.0"
  }
 },
 "nbformat": 4,
 "nbformat_minor": 5
}
